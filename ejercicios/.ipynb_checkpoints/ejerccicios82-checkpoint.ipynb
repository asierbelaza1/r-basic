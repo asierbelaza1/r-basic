{
 "cells": [
  {
   "cell_type": "code",
   "execution_count": 3,
   "metadata": {},
   "outputs": [
    {
     "name": "stdout",
     "output_type": "stream",
     "text": [
      "Hola Que Tal Estás\n"
     ]
    }
   ],
   "source": [
    "\n",
    "frase = \"Hola que tal estás\"\n",
    "\n",
    "print (frase.title())\n",
    "\n"
   ]
  },
  {
   "cell_type": "markdown",
   "metadata": {},
   "source": [
    "###### Crea una función que calcule el máximo común divisor de dos números introducidos por el usuario por teclado."
   ]
  },
  {
   "cell_type": "code",
   "execution_count": 4,
   "metadata": {},
   "outputs": [
    {
     "name": "stdout",
     "output_type": "stream",
     "text": [
      "10\n"
     ]
    }
   ],
   "source": [
    "import math\n",
    "\n",
    "x = 40\n",
    "y = 30\n",
    "mcd = math.gcd(x,y)\n",
    "\n",
    "print(mcd)"
   ]
  },
  {
   "cell_type": "markdown",
   "metadata": {},
   "source": [
    "### Investiga el Cifrado del César y crea una función que lo reproduzca en Python. Cada letra del mensaje original se desplaza tres posiciones en el alfabeto estándar. La A se convierte en la D, la B se convierte en la E, la C se convierte en la F... y cuando se acaba el alfabeto se le vuelve a dar la vuelta: la X se convierte en la A, la Y en la B y la X en la C. Los números no sufren ninguna modificación."
   ]
  },
  {
   "cell_type": "code",
   "execution_count": 16,
   "metadata": {},
   "outputs": [
    {
     "name": "stdout",
     "output_type": "stream",
     "text": [
      "Krñd\n"
     ]
    }
   ],
   "source": [
    "alfabetoMinus = ['a', 'b', 'c', 'd', 'e', 'f', 'g', 'h', 'i', 'j', 'k', 'l',\n",
    "     'm', 'n', 'ñ', 'o', 'p', 'q', 'r', 's', 't', 'u', 'v', 'w', 'x', 'y', 'z']\n",
    "alfabetoMayus = ['A', 'B', 'C', 'D', 'E', 'F', 'G', 'H', 'I', 'J', 'K', 'L',\n",
    "     'M', 'N', 'Ñ', 'O', 'P', 'Q', 'R', 'S', 'T', 'U', 'V', 'W', 'X', 'Y', 'Z']\n",
    "\n",
    "'''\n",
    "Función codificar\n",
    "Palabra: String a codificar\n",
    "Avance: int posiciones que avanza en el alfabeto\n",
    "'''\n",
    "def Codificar(Palabra, Avance):\n",
    "    Clave = ''\n",
    "    Tope = len(alfabetoMayus)\n",
    "    Posicion = 0\n",
    "    for letra in Palabra:\n",
    "        for i in range(Tope):\n",
    "            if (i + Avance < Tope):\n",
    "                Posicion = i + Avance\n",
    "            else:\n",
    "                Posicion = abs((Tope - i) - Avance)\n",
    "            if letra == alfabetoMinus[i]:\n",
    "                Clave = Clave + alfabetoMinus[Posicion]\n",
    "            elif letra == alfabetoMayus[i]:\n",
    "                Clave = Clave + alfabetoMayus[Posicion]\n",
    "    return Clave\n",
    "\n",
    "#***************************************\n",
    "Clave = Codificar(\"Hola\", 3)\n",
    "print(Clave)"
   ]
  },
  {
   "cell_type": "markdown",
   "metadata": {},
   "source": [
    "###### Dado una lista de nombres de persona, escribe un algoritmo que los ordene de tres formas diferentes:\n",
    "A. De forma alfabética\n",
    "\n",
    "B. De forma alfabética invertida\n",
    "\n",
    "C. De nombre más corto al más largo."
   ]
  },
  {
   "cell_type": "code",
   "execution_count": 15,
   "metadata": {},
   "outputs": [
    {
     "data": {
      "text/plain": [
       "['Marcelo', 'Juanjo', 'Asier']"
      ]
     },
     "execution_count": 15,
     "metadata": {},
     "output_type": "execute_result"
    }
   ],
   "source": [
    "lista = [\"Asier\", \"Marcelo\", \"Juanjo\"]\n",
    "\n",
    "## A\n",
    "lista.sort()\n",
    "lista\n",
    "\n",
    "## B\n",
    "lista.sort(reverse=True)\n",
    "lista\n",
    "\n",
    "## C\n",
    "lista.sort(reverse=True, key=len)\n",
    "lista\n",
    "\n",
    "\n"
   ]
  },
  {
   "cell_type": "code",
   "execution_count": null,
   "metadata": {},
   "outputs": [],
   "source": []
  },
  {
   "cell_type": "code",
   "execution_count": null,
   "metadata": {},
   "outputs": [],
   "source": []
  },
  {
   "cell_type": "code",
   "execution_count": null,
   "metadata": {},
   "outputs": [],
   "source": []
  },
  {
   "cell_type": "code",
   "execution_count": null,
   "metadata": {},
   "outputs": [],
   "source": []
  }
 ],
 "metadata": {
  "kernelspec": {
   "display_name": "Python 3",
   "language": "python",
   "name": "python3"
  },
  "language_info": {
   "codemirror_mode": {
    "name": "ipython",
    "version": 3
   },
   "file_extension": ".py",
   "mimetype": "text/x-python",
   "name": "python",
   "nbconvert_exporter": "python",
   "pygments_lexer": "ipython3",
   "version": "3.7.6"
  }
 },
 "nbformat": 4,
 "nbformat_minor": 4
}
