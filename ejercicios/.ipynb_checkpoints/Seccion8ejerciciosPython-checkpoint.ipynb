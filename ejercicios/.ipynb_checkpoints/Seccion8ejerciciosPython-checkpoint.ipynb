{
 "cells": [
  {
   "cell_type": "markdown",
   "metadata": {},
   "source": [
    "##### Crea una función que reciba los tres coeficientes a, b y c para resolver una ecuación de segundo grado. Muestra la solución por pantalla y ayúdate de la librería Math para acceder a la función raíz cuadrada"
   ]
  },
  {
   "cell_type": "code",
   "execution_count": 24,
   "metadata": {},
   "outputs": [
    {
     "name": "stdout",
     "output_type": "stream",
     "text": [
      "10.24744871391589\n",
      "148.0\n"
     ]
    }
   ],
   "source": [
    "import math\n",
    "\n",
    "a = 3\n",
    "b = 2\n",
    "c = 8\n",
    "\n",
    "\n",
    "def ecuacion2grado(a,b,c):\n",
    "    content =  ( math.pow(b, 2) + ( 4*(a*c) ) ) / 2*a\n",
    "    x = b *(-1) + math.sqrt(content)\n",
    "    return x\n",
    "\n",
    "print (ecuacion2grado(a,b,c))\n",
    "print (content)\n",
    "\n",
    " \n",
    "\n",
    "\n"
   ]
  },
  {
   "cell_type": "markdown",
   "metadata": {},
   "source": [
    "##### Crea una función que lea una frase de teclado y nos diga si es o no un palíndromo (frase que se lee igual de izquierda a derecha o al revés como por ejemplo La ruta nos aportó otro paso natural.)"
   ]
  },
  {
   "cell_type": "code",
   "execution_count": 98,
   "metadata": {},
   "outputs": [
    {
     "name": "stdout",
     "output_type": "stream",
     "text": [
      "Ingrese la palabra que desea evaluar: Oso\n",
      "Es palíndromo\n"
     ]
    }
   ],
   "source": [
    "import numpy as np\n",
    "arrayTexto = np.array([])\n",
    "par = False\n",
    "                 \n",
    "texto = input(\"Ingrese la palabra que desea evaluar: \")\n",
    "i = 0\n",
    "## Convertimos la cadena de texto en un array\n",
    "\n",
    "for letra in texto:\n",
    "    arrayTexto = np.append(arrayTexto,letra.lower())\n",
    "    i += 1\n",
    "    \n",
    "mitad = int(i / 2)\n",
    "\n",
    "if i % 2 == 0: par = True\n",
    "\n",
    "## Partimos el array por la mitad por la mitad y guardamos las dos partes\n",
    "if par:\n",
    "    parte1 = arrayTexto[0:mitad] \n",
    "    parte2 = arrayTexto[mitad:i] \n",
    "else:\n",
    "    mitad += 1\n",
    "    parte1 = arrayTexto[0:mitad-1] \n",
    "    parte2 = arrayTexto[mitad:i] \n",
    "\n",
    "## Volteamos el segundo array para compararlo con el primero\n",
    "parte2 = np.flip(parte2)\n",
    "\n",
    "if (parte1==parte2).all():\n",
    "    print(\"Es palíndromo\")\n",
    "else:\n",
    "    print(\"No es palíndromo\")\n"
   ]
  },
  {
   "cell_type": "markdown",
   "metadata": {},
   "source": [
    "#### Crea un diccionario que tenga por claves los números del 1 al 10 y como valores sus raíces cuadradas"
   ]
  },
  {
   "cell_type": "code",
   "execution_count": 100,
   "metadata": {},
   "outputs": [],
   "source": [
    "diccionario = {\n",
    "    1 : math.sqrt(1),\n",
    "    2 : math.sqrt(2),\n",
    "    3 : math.sqrt(3),\n",
    "    4 : math.sqrt(4),\n",
    "    5 : math.sqrt(5),\n",
    "    6 : math.sqrt(6),\n",
    "    7 : math.sqrt(7),\n",
    "    8 : math.sqrt(8),\n",
    "    9 : math.sqrt(9),\n",
    "    10 : math.sqrt(10),\n",
    "}\n",
    "\n",
    "\n"
   ]
  },
  {
   "cell_type": "markdown",
   "metadata": {},
   "source": [
    "##### Crea una función que dados dos diccionarios nos diga que claves están presentes en ambos. "
   ]
  },
  {
   "cell_type": "code",
   "execution_count": 136,
   "metadata": {},
   "outputs": [
    {
     "name": "stdout",
     "output_type": "stream",
     "text": [
      "['Casa' 'Coche' 'Perro']\n"
     ]
    }
   ],
   "source": [
    "diccionario1 = {\n",
    "    \"Casa\" : 5,\n",
    "    \"Coche\" : 5,\n",
    "    \"Perro\" : 5\n",
    "}\n",
    "\n",
    "diccionario2 = {\n",
    "    \"Casa\" : 5,\n",
    "    \"Coche\" : 5,\n",
    "    \"Perro\" : 5,\n",
    "    \"Avion\" : 3,\n",
    "    \"Roca\" : 6\n",
    "}\n",
    "\n",
    "def IndicesComunesEnDiccionarios(diccionario1, diccionario2): \n",
    "    indicesComunes = np.array([])\n",
    "    for clave1 in diccionario1:\n",
    "        for clave2 in diccionario1:\n",
    "            if clave1 == clave2:\n",
    "                indicesComunes = np.append(indicesComunes,clave1)\n",
    "            \n",
    "    return indicesComunes\n",
    "\n",
    "print (IndicesComunesEnDiccionarios(diccionario1, diccionario2))\n",
    "\n",
    "\n",
    "\n",
    "            \n",
    "    \n"
   ]
  },
  {
   "cell_type": "markdown",
   "metadata": {},
   "source": [
    "##### Crea una función que dado un número N nos diga si es primo o no (tiene que ir dividiendo por todos los números x comprendidos entre 2 y el propio número N menos uno y ver si el cociente de N/x tiene resto entero o no).\n"
   ]
  },
  {
   "cell_type": "code",
   "execution_count": null,
   "metadata": {},
   "outputs": [
    {
     "name": "stdout",
     "output_type": "stream",
     "text": [
      "inserta un numero (0) salir >> 45\n",
      "\n",
      "El numero 45 NO es primo\n"
     ]
    }
   ],
   "source": [
    "def EsPrimo(numero):\n",
    "    \"\"\"\n",
    "    Funcion que determina si un numero es primo\n",
    "    Tiene que recibir el numero entero\n",
    "    \"\"\"\n",
    "    # Para que un numero sea primo, unicamente tiene que dividirse dos veces:\n",
    "    #   1 - divisible entre 1\n",
    "    #   2 - divisible entre el mismo\n",
    "    # En este bucle, empezamos por el dos hasta un numero anterior a el, por lo\n",
    "    # que si en el bucle, alguna vez se divide el numero, quiere decir que no es\n",
    "    # primo\n",
    "    if (numero<=1):\n",
    "        return False\n",
    " \n",
    "    for i in range(2, math.ceil(math.sqrt(numero))+1):\n",
    "        if(numero%i==0 and i!=numero):\n",
    "            return False\n",
    "    return True\n",
    " \n",
    "while True:\n",
    "    try:\n",
    "        numero = int(input(\"inserta un numero (0) salir >> \"))\n",
    "        if numero==0:\n",
    "            break\n",
    "        if EsPrimo(numero):\n",
    "            print (\"\\nEl numero %s es primo\" % numero)\n",
    "        else:\n",
    "            print (\"\\nEl numero %s NO es primo\" % numero)\n",
    "    except:\n",
    "        print (\"\\nEl numero tiene que ser entero\")"
   ]
  },
  {
   "cell_type": "markdown",
   "metadata": {},
   "source": [
    "###### Investiga la documentación de la clase string y crea un método que lea una frase del teclado y escriba la primera letra de cada palabra en Mayúscula."
   ]
  },
  {
   "cell_type": "code",
   "execution_count": null,
   "metadata": {},
   "outputs": [],
   "source": [
    "frase = \"Hola que tal estás\"\n",
    "\n",
    "print (frase.title(frase))\n",
    "\n",
    "print \"ljads\""
   ]
  },
  {
   "cell_type": "code",
   "execution_count": null,
   "metadata": {},
   "outputs": [],
   "source": []
  },
  {
   "cell_type": "code",
   "execution_count": null,
   "metadata": {},
   "outputs": [],
   "source": []
  },
  {
   "cell_type": "code",
   "execution_count": null,
   "metadata": {},
   "outputs": [],
   "source": []
  },
  {
   "cell_type": "code",
   "execution_count": null,
   "metadata": {},
   "outputs": [],
   "source": []
  }
 ],
 "metadata": {
  "kernelspec": {
   "display_name": "Python 3",
   "language": "python",
   "name": "python3"
  },
  "language_info": {
   "codemirror_mode": {
    "name": "ipython",
    "version": 3
   },
   "file_extension": ".py",
   "mimetype": "text/x-python",
   "name": "python",
   "nbconvert_exporter": "python",
   "pygments_lexer": "ipython3",
   "version": "3.7.6"
  }
 },
 "nbformat": 4,
 "nbformat_minor": 4
}
